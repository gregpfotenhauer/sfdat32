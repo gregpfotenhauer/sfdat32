{
 "cells": [
  {
   "cell_type": "markdown",
   "metadata": {},
   "source": [
    "### Homework 4\n",
    "\n",
    "+ You now have the tools to come up with a solid research question\n",
    "+ With an *idea* of how you might answer it\n",
    "+ Now create two for your final project! \n"
   ]
  },
  {
   "cell_type": "markdown",
   "metadata": {},
   "source": [
    "### Step 1\n",
    "\n",
    "+ Choose a freely available dataset\n",
    "+ Checkout public_data.md on course github"
   ]
  },
  {
   "cell_type": "markdown",
   "metadata": {},
   "source": [
    "I will be using NRELs National Solar Radiation Database (NSRDB). The dataset covers 1960-1991 (TMY2), and 1991-2010 (TMY3), and includes information on solar radiation on hundreds of sites in the US."
   ]
  },
  {
   "cell_type": "markdown",
   "metadata": {},
   "source": [
    "### Step 2\n",
    "\n",
    "+ Choose an outcome you are interested in\n",
    "+ Is it categorical? Linear? "
   ]
  },
  {
   "cell_type": "markdown",
   "metadata": {},
   "source": [
    "I would like to find out if any locations, and if so, which, have experienced changes in solar radiation in the 50 year time period, and quantify that increase or decrease."
   ]
  },
  {
   "cell_type": "markdown",
   "metadata": {},
   "source": [
    "This is not a categorical variable. I'm not sure how to answer whether it is linear or not, because isn't that part of the question being asked?"
   ]
  },
  {
   "cell_type": "markdown",
   "metadata": {},
   "source": [
    "### Step 3\n",
    "\n",
    "+ What do you want to know that we don't already know?"
   ]
  },
  {
   "cell_type": "markdown",
   "metadata": {
    "collapsed": true
   },
   "source": [
    "I would like to find out if any locations, and if so, which, have experienced changes in solar radiation in the 50 year time period, and quantify that increase or decrease."
   ]
  },
  {
   "cell_type": "code",
   "execution_count": null,
   "metadata": {
    "collapsed": true
   },
   "outputs": [],
   "source": []
  }
 ],
 "metadata": {
  "anaconda-cloud": {},
  "kernelspec": {
   "display_name": "Python [default]",
   "language": "python",
   "name": "python2"
  },
  "language_info": {
   "codemirror_mode": {
    "name": "ipython",
    "version": 2
   },
   "file_extension": ".py",
   "mimetype": "text/x-python",
   "name": "python",
   "nbconvert_exporter": "python",
   "pygments_lexer": "ipython2",
   "version": "2.7.12"
  }
 },
 "nbformat": 4,
 "nbformat_minor": 0
}
